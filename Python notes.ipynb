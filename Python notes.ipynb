{
 "cells": [
  {
   "cell_type": "markdown",
   "metadata": {},
   "source": [
    "# Python Notes\n",
    "出自《流畅的Python》，《Python编程之美》"
   ]
  },
  {
   "cell_type": "markdown",
   "metadata": {},
   "source": [
    "# 生成器函数"
   ]
  },
  {
   "cell_type": "markdown",
   "metadata": {},
   "source": [
    "## 等比数列"
   ]
  },
  {
   "cell_type": "code",
   "execution_count": 2,
   "metadata": {},
   "outputs": [
    {
     "name": "stdout",
     "output_type": "stream",
     "text": [
      "1\n",
      "1.5\n"
     ]
    }
   ],
   "source": [
    "import itertools\n",
    "gen = itertools.count(1, .5) # 生成首项为1，公差为0.5的等差数列\n",
    "print(next(gen))\n",
    "print(next(gen))"
   ]
  },
  {
   "cell_type": "markdown",
   "metadata": {},
   "source": [
    "## 带条件的等比数列"
   ]
  },
  {
   "cell_type": "code",
   "execution_count": 4,
   "metadata": {},
   "outputs": [
    {
     "name": "stdout",
     "output_type": "stream",
     "text": [
      "1\n",
      "1.5\n"
     ]
    },
    {
     "ename": "StopIteration",
     "evalue": "",
     "output_type": "error",
     "traceback": [
      "\u001b[0;31m---------------------------------------------------------------------------\u001b[0m",
      "\u001b[0;31mStopIteration\u001b[0m                             Traceback (most recent call last)",
      "\u001b[0;32m<ipython-input-4-a9abf27c5ef4>\u001b[0m in \u001b[0;36m<module>\u001b[0;34m\u001b[0m\n\u001b[1;32m      2\u001b[0m \u001b[0mprint\u001b[0m\u001b[0;34m(\u001b[0m\u001b[0mnext\u001b[0m\u001b[0;34m(\u001b[0m\u001b[0mgen\u001b[0m\u001b[0;34m)\u001b[0m\u001b[0;34m)\u001b[0m\u001b[0;34m\u001b[0m\u001b[0m\n\u001b[1;32m      3\u001b[0m \u001b[0mprint\u001b[0m\u001b[0;34m(\u001b[0m\u001b[0mnext\u001b[0m\u001b[0;34m(\u001b[0m\u001b[0mgen\u001b[0m\u001b[0;34m)\u001b[0m\u001b[0;34m)\u001b[0m\u001b[0;34m\u001b[0m\u001b[0m\n\u001b[0;32m----> 4\u001b[0;31m \u001b[0mprint\u001b[0m\u001b[0;34m(\u001b[0m\u001b[0mnext\u001b[0m\u001b[0;34m(\u001b[0m\u001b[0mgen\u001b[0m\u001b[0;34m)\u001b[0m\u001b[0;34m)\u001b[0m\u001b[0;34m\u001b[0m\u001b[0m\n\u001b[0m",
      "\u001b[0;31mStopIteration\u001b[0m: "
     ]
    }
   ],
   "source": [
    "gen = itertools.takewhile(lambda n: n < 2, itertools.count(1, .5)) # 生成前一行数列中小于3部分的数列\n",
    "print(next(gen))\n",
    "print(next(gen))\n",
    "print(next(gen))"
   ]
  },
  {
   "cell_type": "markdown",
   "metadata": {},
   "source": [
    "## 用于过滤的生成器函数"
   ]
  },
  {
   "cell_type": "code",
   "execution_count": 1,
   "metadata": {},
   "outputs": [],
   "source": [
    "def vowel(c):\n",
    "    return c.lower() in 'aeiou'"
   ]
  },
  {
   "cell_type": "code",
   "execution_count": 10,
   "metadata": {},
   "outputs": [
    {
     "name": "stdout",
     "output_type": "stream",
     "text": [
      "itertools.filter ['A', 'a', 'a']\n",
      "itertools.filterfalse ['r', 'd', 'v', 'r', 'k'] 与filter相反\n",
      "itertools.dropwhile ['r', 'd', 'v', 'a', 'r', 'k'] 计算True后结束，不再进一步检查\n",
      "itertools.takewhile ['A', 'a'] 计算到Fasle后结束，不再进一步检查\n",
      "itertools.compress ['A', 'r', 'd', 'a'] 并行计算两个迭代对象，后为True输出\n",
      "itertools.islice ['A', 'a', 'r', 'd'] 切片，惰性，返回迭代器\n",
      "itertools.islice ['v', 'a', 'r']\n",
      "itertools.islice ['a', 'd', 'a']\n"
     ]
    }
   ],
   "source": [
    "import itertools\n",
    "\n",
    "print(\"itertools.filter\",list(filter(vowel, \"Aardvark\")))\n",
    "print(\"itertools.filterfalse\",list(itertools.filterfalse(vowel, 'Aardvark')),\"与filter相反\")\n",
    "print(\"itertools.dropwhile\",list(itertools.dropwhile(vowel, 'Aardvark')),\"计算True后结束，不再进一步检查\")\n",
    "print(\"itertools.takewhile\",list(itertools.takewhile(vowel, 'Aardvark')),\"计算到Fasle后结束，不再进一步检查\")\n",
    "print(\"itertools.compress\",list(itertools.compress('Aardvark',(1,0,1,1,0,1))),\"并行计算两个迭代对象，后为True输出\")\n",
    "print(\"itertools.islice\",list(itertools.islice('Aardvark',4)),\"切片，惰性，返回迭代器\")\n",
    "print(\"itertools.islice\",list(itertools.islice('Aardvark',4,7)))\n",
    "print(\"itertools.islice\",list(itertools.islice('Aardvark',1,7,2)))"
   ]
  },
  {
   "cell_type": "markdown",
   "metadata": {},
   "source": [
    "## 用于映射的生成器函数"
   ]
  },
  {
   "cell_type": "code",
   "execution_count": 11,
   "metadata": {},
   "outputs": [
    {
     "name": "stdout",
     "output_type": "stream",
     "text": [
      "[5, 9, 11, 19, 26, 32, 35, 35, 44, 45]\n",
      "[5, 4, 2, 2, 2, 2, 2, 0, 0, 0]\n",
      "[5, 5, 5, 8, 8, 8, 8, 8, 9, 9]\n",
      "[5, 20, 40, 320, 2240, 13440, 40320, 0, 0, 0]\n",
      "[1, 2, 6, 24, 120, 720, 5040, 40320, 362880, 3628800]\n"
     ]
    }
   ],
   "source": [
    "sample = [5,4,2,8,7,6,3,0,9,1]\n",
    "import itertools\n",
    "print(list(itertools.accumulate(sample)))\n",
    "print(list(itertools.accumulate(sample,min)))\n",
    "print(list(itertools.accumulate(sample,max)))\n",
    "import operator\n",
    "print(list(itertools.accumulate(sample,operator.mul)))\n",
    "print(list(itertools.accumulate(range(1, 11),operator.mul)))"
   ]
  },
  {
   "cell_type": "code",
   "execution_count": 20,
   "metadata": {},
   "outputs": [
    {
     "name": "stdout",
     "output_type": "stream",
     "text": [
      "[(2, 'a'), (3, 'l'), (4, 'b'), (5, 'a'), (6, 't'), (7, 'r'), (8, 'o'), (9, 'z')]\n",
      "[0, 1, 4, 9, 16, 25, 36, 49, 64, 81, 100]\n",
      "[(0, 2), (1, 4), (2, 8)]\n",
      "['a', 'll', 'bbb', 'aaaa', 'ttttt', 'rrrrrr', 'ooooooo', 'zzzzzzzz']\n",
      "[5.0, 4.5, 3.6666666666666665, 4.75, 5.2, 5.333333333333333, 5.0, 4.375, 4.888888888888889, 4.5]\n"
     ]
    }
   ],
   "source": [
    "print(list(enumerate('albatroz',2)))\n",
    "import operator\n",
    "print(list(map(operator.mul, range(11),range(11))))\n",
    "print(list(map(lambda a, b: (a, b),range(11),[2, 4, 8])))\n",
    "import itertools\n",
    "print(list(itertools.starmap(operator.mul ,enumerate('albatroz',1))))\n",
    "sample = [5,4,2,8,7,6,3,0,9,1]\n",
    "print(list(itertools.starmap(lambda a,b:b/a,enumerate(itertools.accumulate(sample),1))))"
   ]
  },
  {
   "cell_type": "markdown",
   "metadata": {},
   "source": [
    "## 用于合并的生成器函数"
   ]
  },
  {
   "cell_type": "code",
   "execution_count": 21,
   "metadata": {},
   "outputs": [
    {
     "name": "stdout",
     "output_type": "stream",
     "text": [
      "['A', 'B', 'C', 0, 1]\n",
      "[(0, 'A'), (1, 'B'), (2, 'C')]\n",
      "[0, 'A', 1, 'B', 2, 'C']\n",
      "[('A', 0), ('B', 1), ('C', 2)]\n",
      "[('A', 0, 10), ('B', 1, 20), ('C', 2, 30)]\n",
      "[('A', 0), ('B', 1), ('C', 2), (None, 3), (None, 4)]\n",
      "[('A', 0), ('B', 1), ('C', 2), ('?', 3), ('?', 4)]\n"
     ]
    }
   ],
   "source": [
    "print(list(itertools.chain('ABC', range(2))))\n",
    "print(list(itertools.chain(enumerate('ABC'))))\n",
    "print(list(itertools.chain.from_iterable(enumerate('ABC'))))\n",
    "print(list(zip('ABC',range(5))))\n",
    "print(list(zip('ABC',range(5),[10, 20, 30, 40])))\n",
    "print(list(itertools.zip_longest('ABC', range(5))))\n",
    "print(list(itertools.zip_longest('ABC', range(5),fillvalue='?')))"
   ]
  },
  {
   "cell_type": "code",
   "execution_count": 5,
   "metadata": {},
   "outputs": [
    {
     "name": "stdout",
     "output_type": "stream",
     "text": [
      "[('A', 0), ('A', 1), ('B', 0), ('B', 1), ('C', 0), ('C', 1)]\n",
      "[('A', 'A'), ('A', 'B'), ('A', 'C'), ('B', 'A'), ('B', 'B'), ('B', 'C'), ('C', 'A'), ('C', 'B'), ('C', 'C')]\n"
     ]
    }
   ],
   "source": [
    "import itertools\n",
    "print(list(itertools.product('ABC', range(2))))\n",
    "print(list(itertools.product('ABC', repeat=2)))"
   ]
  },
  {
   "cell_type": "markdown",
   "metadata": {},
   "source": [
    "### 把输入的各个元素扩展成多个输出元素的生成器函数"
   ]
  },
  {
   "cell_type": "code",
   "execution_count": 15,
   "metadata": {},
   "outputs": [
    {
     "name": "stdout",
     "output_type": "stream",
     "text": [
      "0\n",
      "1 2 3\n",
      "A B C A B\n",
      "['C', 'A', 'B', 'C', 'A', 'B', 'C']\n",
      "7 7\n",
      "[8, 8, 8, 8]\n",
      "[0, 5, 10, 15, 20, 25, 30, 35, 40, 45, 50]\n"
     ]
    }
   ],
   "source": [
    "import operator\n",
    "ct = itertools.count()\n",
    "print(next(ct))\n",
    "print(next(ct),next(ct),next(ct))\n",
    "cy = itertools.cycle('ABC')\n",
    "print(next(cy),next(cy),next(cy),next(cy),next(cy))\n",
    "print(list(itertools.islice(cy,7)))\n",
    "\n",
    "rp = itertools.repeat(7)\n",
    "print(next(rp),next(rp))\n",
    "\n",
    "print(list(itertools.repeat(8, 4)))\n",
    "\n",
    "print(list(map(operator.mul, range(11), itertools.repeat(5))))"
   ]
  },
  {
   "cell_type": "markdown",
   "metadata": {},
   "source": [
    "### 组合学生成器"
   ]
  },
  {
   "cell_type": "code",
   "execution_count": 18,
   "metadata": {},
   "outputs": [
    {
     "name": "stdout",
     "output_type": "stream",
     "text": [
      "[('A', 'B'), ('A', 'C'), ('B', 'C')]\n",
      "[('A', 'A'), ('A', 'B'), ('A', 'C'), ('B', 'B'), ('B', 'C'), ('C', 'C')]\n",
      "[('A', 'B'), ('A', 'C'), ('B', 'A'), ('B', 'C'), ('C', 'A'), ('C', 'B')]\n"
     ]
    }
   ],
   "source": [
    "print(list(itertools.combinations('ABC',2)))\n",
    "print(list(itertools.combinations_with_replacement('ABC',2)))\n",
    "print(list(itertools.permutations('ABC',2)))"
   ]
  },
  {
   "cell_type": "markdown",
   "metadata": {},
   "source": [
    "### 用于重新排列元素的生成器函数"
   ]
  },
  {
   "cell_type": "code",
   "execution_count": 21,
   "metadata": {},
   "outputs": [
    {
     "name": "stdout",
     "output_type": "stream",
     "text": [
      "L -> ['L', 'L', 'L', 'L']\n",
      "A -> ['A', 'A']\n",
      "G -> ['G', 'G', 'G']\n"
     ]
    }
   ],
   "source": [
    "for char, group in itertools.groupby('LLLLAAGGG'):\n",
    "    print(char, '->', list(group))"
   ]
  },
  {
   "cell_type": "code",
   "execution_count": 22,
   "metadata": {},
   "outputs": [
    {
     "name": "stdout",
     "output_type": "stream",
     "text": [
      "['rat', 'bat', 'duck', 'bear', 'lion', 'eagle', 'shark', 'giraffe', 'dolphin']\n"
     ]
    }
   ],
   "source": [
    "animals = ['duck', 'eagle', 'rat', 'giraffe', 'bear', 'bat', 'dolphin', 'shark', 'lion']\n",
    "animals.sort(key=len)\n",
    "print(animals)"
   ]
  },
  {
   "cell_type": "code",
   "execution_count": 23,
   "metadata": {},
   "outputs": [
    {
     "name": "stdout",
     "output_type": "stream",
     "text": [
      "3 -> ['rat', 'bat']\n",
      "4 -> ['duck', 'bear', 'lion']\n",
      "5 -> ['eagle', 'shark']\n",
      "7 -> ['giraffe', 'dolphin']\n"
     ]
    }
   ],
   "source": [
    "for length, group in itertools.groupby(animals, len):\n",
    "    print(length, '->', list(group))"
   ]
  },
  {
   "cell_type": "code",
   "execution_count": 24,
   "metadata": {},
   "outputs": [
    {
     "name": "stdout",
     "output_type": "stream",
     "text": [
      "7 -> ['dolphin', 'giraffe']\n",
      "5 -> ['shark', 'eagle']\n",
      "4 -> ['lion', 'bear', 'duck']\n",
      "3 -> ['bat', 'rat']\n"
     ]
    }
   ],
   "source": [
    "for length, group in itertools.groupby(reversed(animals), len):\n",
    "    print(length, '->', list(group))"
   ]
  },
  {
   "cell_type": "markdown",
   "metadata": {},
   "source": [
    "### for，while，try else"
   ]
  },
  {
   "cell_type": "markdown",
   "metadata": {},
   "source": [
    "for while 没有被break退出时，会运行else\n",
    "try 没有异常时，会运行else"
   ]
  },
  {
   "cell_type": "markdown",
   "metadata": {},
   "source": [
    "### 线程、进程，阻塞型I/O，非阻塞型I/O，I/O密集型与计算密集型"
   ]
  },
  {
   "cell_type": "markdown",
   "metadata": {},
   "source": [
    "由于CPython解释器本身不是线程安全的，因此有全局解释器锁（GIL），一个Python进程通常只能使用一个CPU核心\n",
    "\n",
    "这可能意味着Python中的多线程是没有意义的，但是也有例外，为此，先解释两组名词\n",
    "\n",
    "* 阻塞型I/O,等待I/O完成，再进行之后的操作\n",
    "* 非阻塞型I/O，不等的I/O完成，就进行之后的操作\n",
    "\n",
    "* I/O密集型，网络IO与磁盘IO占主要的任务\n",
    "* 计算密集型，CPU计算占主要的任务\n",
    "\n",
    "Python标准库中所有执行阻塞型I/O操作的函数，在等待操作系统返回结果时都会释放GIL，因此I/O密集型Python程序可以在多线程中受益，一个线程在等待网络响应时，阻塞型I/O函数会释放GIL，运行另外的线程"
   ]
  },
  {
   "cell_type": "code",
   "execution_count": null,
   "metadata": {},
   "outputs": [],
   "source": []
  },
  {
   "cell_type": "code",
   "execution_count": null,
   "metadata": {},
   "outputs": [],
   "source": []
  },
  {
   "cell_type": "code",
   "execution_count": null,
   "metadata": {},
   "outputs": [],
   "source": []
  },
  {
   "cell_type": "markdown",
   "metadata": {},
   "source": [
    "# 其他"
   ]
  },
  {
   "cell_type": "markdown",
   "metadata": {},
   "source": [
    "## reprlib，repr的替代"
   ]
  },
  {
   "cell_type": "code",
   "execution_count": 6,
   "metadata": {},
   "outputs": [
    {
     "name": "stdout",
     "output_type": "stream",
     "text": [
      "'asdasdasdajsdiasjdiasjdiasjdaaaaaaaaaaaaaaaaaaaaaaaaaaaaaaaaaaaaisdjad'\n",
      "'asdasdasdajs...aiasjdaisdjad'\n"
     ]
    }
   ],
   "source": [
    "import reprlib\n",
    "print(repr(\"asdasdasdajsdiasjdiasjdiasjdaaaaaaaaaaaaaaaaaaaaaaaaaaaaaaaaaaaaisdjad\"))\n",
    "print(reprlib.repr(\"asdasdasdajsdiasjdiasjdaaaaaaaaaaaaaaaaaaaaaaaaaaaaaaaaaiasjdaisdjad\"))"
   ]
  },
  {
   "cell_type": "markdown",
   "metadata": {},
   "source": [
    "## rpartition,rsplit,从另一个方向找分隔符"
   ]
  },
  {
   "cell_type": "code",
   "execution_count": 9,
   "metadata": {},
   "outputs": [
    {
     "name": "stdout",
     "output_type": "stream",
     "text": [
      "('my.doc', '.', 'txt')\n",
      "['my.doc', 'txt']\n"
     ]
    }
   ],
   "source": [
    "s = \"my.doc.txt\"\n",
    "print(s.rpartition('.')) # 保留分隔符\n",
    "print(s.rsplit('.',1)) # 限制分割次数"
   ]
  },
  {
   "cell_type": "code",
   "execution_count": null,
   "metadata": {},
   "outputs": [],
   "source": []
  },
  {
   "cell_type": "markdown",
   "metadata": {},
   "source": [
    "# 代码风格"
   ]
  },
  {
   "cell_type": "markdown",
   "metadata": {},
   "source": [
    "### 尽量在一处Return"
   ]
  },
  {
   "cell_type": "markdown",
   "metadata": {},
   "source": [
    "### 代码续行\n",
    "使用括号代替 \\进行续行\n",
    "```\n",
    "from some.deep.module.in.a.module import(\n",
    "    a,\n",
    "    b,\n",
    "    c\n",
    ")\n",
    "```"
   ]
  },
  {
   "cell_type": "markdown",
   "metadata": {},
   "source": [
    "### 花式解包"
   ]
  },
  {
   "cell_type": "code",
   "execution_count": 1,
   "metadata": {},
   "outputs": [],
   "source": [
    "a = 1\n",
    "b = 2\n",
    "a, b = b, a\n",
    "a, (b, c) = 1, (2, 3)\n",
    "a, *rest = [1, 2, 3]\n",
    "a, *middle, c = [1, 2, 3, 4]"
   ]
  },
  {
   "cell_type": "markdown",
   "metadata": {},
   "source": [
    "### 使用双下划线代替单下划线请求不需要的值，避免覆盖默认单下划线记录的上次计算结果"
   ]
  },
  {
   "cell_type": "markdown",
   "metadata": {},
   "source": [
    "### 使用 in set 代替 in list，前者使用哈希匹配，后者使用逐项匹配"
   ]
  },
  {
   "cell_type": "markdown",
   "metadata": {},
   "source": [
    "### 一个变量只赋值一次，以强化变量的类型"
   ]
  },
  {
   "cell_type": "markdown",
   "metadata": {},
   "source": [
    "### 可变类型与不可变类型\n",
    "* 可变类型 允许就地修改对象的内容\n",
    "* 不可变类型 不提供就地修改的方法\n",
    "\n",
    "可变类型不允许作为字典的键，因为变化后哈希值可能不同"
   ]
  },
  {
   "cell_type": "markdown",
   "metadata": {},
   "source": [
    "### 几种不同的创建字符串的方法"
   ]
  },
  {
   "cell_type": "code",
   "execution_count": 7,
   "metadata": {},
   "outputs": [],
   "source": [
    "cheese = \"%s %s\" % (\"asd\",\"bs\")\n",
    "cheese = \"{} {}\".format(\"asd\",\"bs\")\n",
    "cheese = \"{0} {1}\".format(\"asd\",\"bs\")\n",
    "cheese = \"{adj} {none}\".format(adj=\"asd\", none=\"none\") # 推荐 start from python3.1\n",
    "adj = \"asd\"\n",
    "none = \"none\"\n",
    "cheese = f\"{adj} {none}\" # 推荐 start from python 3.6"
   ]
  },
  {
   "cell_type": "markdown",
   "metadata": {},
   "source": [
    "### 函数doc"
   ]
  },
  {
   "cell_type": "code",
   "execution_count": 8,
   "metadata": {},
   "outputs": [],
   "source": [
    "# Bla\n",
    "def f(x):\n",
    "    \"\"\"hah\"\"\"\n",
    "    return x + 1"
   ]
  },
  {
   "cell_type": "code",
   "execution_count": 9,
   "metadata": {},
   "outputs": [
    {
     "name": "stdout",
     "output_type": "stream",
     "text": [
      "Help on function f in module __main__:\n",
      "\n",
      "f(x)\n",
      "    hah\n",
      "\n"
     ]
    }
   ],
   "source": [
    "help(f)"
   ]
  },
  {
   "cell_type": "markdown",
   "metadata": {},
   "source": [
    "### __slots__"
   ]
  },
  {
   "cell_type": "markdown",
   "metadata": {},
   "source": [
    "为类添加\\_\\_slots\\_\\_，可以限制实例的属性，不在其中的属性不可以被赋予给实例"
   ]
  },
  {
   "cell_type": "code",
   "execution_count": 8,
   "metadata": {},
   "outputs": [
    {
     "name": "stdout",
     "output_type": "stream",
     "text": [
      "1 2\n"
     ]
    }
   ],
   "source": [
    "class A:\n",
    "    def __init__(self):\n",
    "        pass\n",
    "a = A()\n",
    "a.a = 1\n",
    "a.b = 2\n",
    "print(a.a,a.b)"
   ]
  },
  {
   "cell_type": "code",
   "execution_count": 9,
   "metadata": {},
   "outputs": [
    {
     "name": "stdout",
     "output_type": "stream",
     "text": [
      "<member 'a' of 'A' objects>\n"
     ]
    },
    {
     "ename": "AttributeError",
     "evalue": "'A' object has no attribute 'b'",
     "output_type": "error",
     "traceback": [
      "\u001b[0;31m---------------------------------------------------------------------------\u001b[0m",
      "\u001b[0;31mAttributeError\u001b[0m                            Traceback (most recent call last)",
      "\u001b[0;32m<ipython-input-9-08f204e75b7a>\u001b[0m in \u001b[0;36m<module>\u001b[0;34m\u001b[0m\n\u001b[1;32m      6\u001b[0m \u001b[0ma\u001b[0m\u001b[0;34m.\u001b[0m\u001b[0ma\u001b[0m \u001b[0;34m=\u001b[0m \u001b[0;36m1\u001b[0m\u001b[0;34m\u001b[0m\u001b[0m\n\u001b[1;32m      7\u001b[0m \u001b[0mprint\u001b[0m\u001b[0;34m(\u001b[0m\u001b[0mA\u001b[0m\u001b[0;34m.\u001b[0m\u001b[0ma\u001b[0m\u001b[0;34m)\u001b[0m\u001b[0;34m\u001b[0m\u001b[0m\n\u001b[0;32m----> 8\u001b[0;31m \u001b[0ma\u001b[0m\u001b[0;34m.\u001b[0m\u001b[0mb\u001b[0m \u001b[0;34m=\u001b[0m \u001b[0;36m2\u001b[0m\u001b[0;34m\u001b[0m\u001b[0m\n\u001b[0m",
      "\u001b[0;31mAttributeError\u001b[0m: 'A' object has no attribute 'b'"
     ]
    }
   ],
   "source": [
    "class A:\n",
    "    __slots__=('a')\n",
    "    def __init__(self):\n",
    "        pass\n",
    "a = A()\n",
    "a.a = 1\n",
    "print(A.a)\n",
    "a.b = 2"
   ]
  },
  {
   "cell_type": "markdown",
   "metadata": {},
   "source": [
    "### Property\n",
    "[参考地址](http://www.runoob.com/python/python-func-property.html)"
   ]
  },
  {
   "cell_type": "markdown",
   "metadata": {},
   "source": [
    "Property 为属性绑定get set del方法，在特定的情况下类会子行调用这些方法"
   ]
  },
  {
   "cell_type": "code",
   "execution_count": 11,
   "metadata": {},
   "outputs": [],
   "source": [
    "class C:\n",
    "    def __init__(self):\n",
    "        self._x = None\n",
    "        \n",
    "    def getx(self):\n",
    "        print(\"call getx\")\n",
    "        return self._x\n",
    "    \n",
    "    def setx(self, value):\n",
    "        print(\"call setx\")\n",
    "        self._x = value\n",
    "        \n",
    "    def delx(self):\n",
    "        print(\"call delx\")\n",
    "        del self._x\n",
    "        \n",
    "    x = property(getx, setx, delx)"
   ]
  },
  {
   "cell_type": "code",
   "execution_count": 12,
   "metadata": {},
   "outputs": [
    {
     "name": "stdout",
     "output_type": "stream",
     "text": [
      "call getx\n",
      "None\n",
      "call setx\n",
      "call getx\n",
      "10\n",
      "call delx\n"
     ]
    }
   ],
   "source": [
    "c = C()\n",
    "print(c.x)\n",
    "c.x = 10\n",
    "print(c.x)\n",
    "del c.x"
   ]
  },
  {
   "cell_type": "markdown",
   "metadata": {},
   "source": [
    "以下是另一种写法"
   ]
  },
  {
   "cell_type": "code",
   "execution_count": 13,
   "metadata": {},
   "outputs": [],
   "source": [
    "class C(object):\n",
    "    def __init__(self):\n",
    "        self._x = None\n",
    " \n",
    "    @property\n",
    "    def x(self):\n",
    "        \"\"\"I'm the 'x' property.\"\"\"\n",
    "        return self._x\n",
    " \n",
    "    @x.setter\n",
    "    def x(self, value):\n",
    "        self._x = value\n",
    " \n",
    "    @x.deleter\n",
    "    def x(self):\n",
    "        del self._x"
   ]
  },
  {
   "cell_type": "markdown",
   "metadata": {},
   "source": [
    "### Pip"
   ]
  },
  {
   "cell_type": "markdown",
   "metadata": {},
   "source": [
    "python 3.4+可以通过 python -m ensurepip 来安装pip"
   ]
  },
  {
   "cell_type": "markdown",
   "metadata": {},
   "source": [
    "### 尽量避免使用硬编码"
   ]
  },
  {
   "cell_type": "markdown",
   "metadata": {},
   "source": [
    "### 装饰器"
   ]
  },
  {
   "cell_type": "markdown",
   "metadata": {},
   "source": [
    "* 装饰器在导入时立即执行，在__main__之前执行\n",
    "* 装饰器往往定义在单独模块中，用以装饰别的模块的函数"
   ]
  },
  {
   "cell_type": "markdown",
   "metadata": {},
   "source": [
    "### 变量作用域"
   ]
  },
  {
   "cell_type": "markdown",
   "metadata": {},
   "source": [
    "python 会将在函数中声明的变量作为局部变量，没声明则是全局变量\n",
    "\n",
    "相反javascript不会，因此可能无意访问到全局变量"
   ]
  },
  {
   "cell_type": "markdown",
   "metadata": {},
   "source": [
    "### 内置装饰器"
   ]
  },
  {
   "cell_type": "markdown",
   "metadata": {},
   "source": [
    "* functools.warp可以让被装饰函数返回自己的__name__和__doc__而不是包裹函数的\n",
    "* lru_cache，利用缓存优化迭代函数\n",
    "* singledispatch单分派范函数"
   ]
  },
  {
   "cell_type": "markdown",
   "metadata": {},
   "source": [
    "### 移除列表元素\n",
    "* .remove() 没有元素时会报错\n",
    "* .discard() 没有元素时不会报错"
   ]
  },
  {
   "cell_type": "markdown",
   "metadata": {},
   "source": [
    "### 协程"
   ]
  },
  {
   "cell_type": "code",
   "execution_count": 1,
   "metadata": {},
   "outputs": [],
   "source": [
    "def average():\n",
    "    total = 0\n",
    "    n = 0\n",
    "    while True:\n",
    "        total += yield\n",
    "        n += 1\n",
    "        print(total/n)"
   ]
  },
  {
   "cell_type": "code",
   "execution_count": 3,
   "metadata": {},
   "outputs": [],
   "source": [
    "from inspect import getgeneratorstate"
   ]
  },
  {
   "cell_type": "code",
   "execution_count": 11,
   "metadata": {},
   "outputs": [
    {
     "data": {
      "text/plain": [
       "'GEN_CREATED'"
      ]
     },
     "execution_count": 11,
     "metadata": {},
     "output_type": "execute_result"
    }
   ],
   "source": [
    "a = average()\n",
    "getgeneratorstate(a)"
   ]
  },
  {
   "cell_type": "code",
   "execution_count": 12,
   "metadata": {},
   "outputs": [],
   "source": [
    "next(a)"
   ]
  },
  {
   "cell_type": "code",
   "execution_count": 13,
   "metadata": {},
   "outputs": [
    {
     "data": {
      "text/plain": [
       "'GEN_SUSPENDED'"
      ]
     },
     "execution_count": 13,
     "metadata": {},
     "output_type": "execute_result"
    }
   ],
   "source": [
    "getgeneratorstate(a)"
   ]
  },
  {
   "cell_type": "code",
   "execution_count": 14,
   "metadata": {},
   "outputs": [
    {
     "name": "stdout",
     "output_type": "stream",
     "text": [
      "10.0\n"
     ]
    }
   ],
   "source": [
    "a.send(10)"
   ]
  },
  {
   "cell_type": "code",
   "execution_count": 15,
   "metadata": {},
   "outputs": [
    {
     "name": "stdout",
     "output_type": "stream",
     "text": [
      "15.0\n"
     ]
    }
   ],
   "source": [
    "a.send(20)"
   ]
  },
  {
   "cell_type": "code",
   "execution_count": 16,
   "metadata": {},
   "outputs": [],
   "source": [
    "a.close()"
   ]
  },
  {
   "cell_type": "code",
   "execution_count": 17,
   "metadata": {},
   "outputs": [
    {
     "ename": "StopIteration",
     "evalue": "",
     "output_type": "error",
     "traceback": [
      "\u001b[0;31m---------------------------------------------------------------------------\u001b[0m",
      "\u001b[0;31mStopIteration\u001b[0m                             Traceback (most recent call last)",
      "\u001b[0;32m<ipython-input-17-1faa368379e1>\u001b[0m in \u001b[0;36m<module>\u001b[0;34m\u001b[0m\n\u001b[0;32m----> 1\u001b[0;31m \u001b[0ma\u001b[0m\u001b[0;34m.\u001b[0m\u001b[0msend\u001b[0m\u001b[0;34m(\u001b[0m\u001b[0;36m10\u001b[0m\u001b[0;34m)\u001b[0m\u001b[0;34m\u001b[0m\u001b[0m\n\u001b[0m",
      "\u001b[0;31mStopIteration\u001b[0m: "
     ]
    }
   ],
   "source": [
    "a.send(10)"
   ]
  },
  {
   "cell_type": "code",
   "execution_count": null,
   "metadata": {},
   "outputs": [],
   "source": []
  },
  {
   "cell_type": "code",
   "execution_count": null,
   "metadata": {},
   "outputs": [],
   "source": []
  },
  {
   "cell_type": "code",
   "execution_count": null,
   "metadata": {},
   "outputs": [],
   "source": []
  },
  {
   "cell_type": "code",
   "execution_count": null,
   "metadata": {},
   "outputs": [],
   "source": []
  },
  {
   "cell_type": "code",
   "execution_count": null,
   "metadata": {},
   "outputs": [],
   "source": []
  },
  {
   "cell_type": "markdown",
   "metadata": {},
   "source": [
    "## TODO\n",
    "* reStructed text\n",
    "* logging\n",
    "* License\n",
    "* pypi\n",
    "* egg\n",
    "* \\_\\_slots\\_\\_\n",
    "* Cython\n",
    "* PyPy"
   ]
  },
  {
   "cell_type": "code",
   "execution_count": null,
   "metadata": {},
   "outputs": [],
   "source": []
  }
 ],
 "metadata": {
  "kernelspec": {
   "display_name": "Python 3",
   "language": "python",
   "name": "python3"
  },
  "language_info": {
   "codemirror_mode": {
    "name": "ipython",
    "version": 3
   },
   "file_extension": ".py",
   "mimetype": "text/x-python",
   "name": "python",
   "nbconvert_exporter": "python",
   "pygments_lexer": "ipython3",
   "version": "3.7.0"
  }
 },
 "nbformat": 4,
 "nbformat_minor": 2
}
