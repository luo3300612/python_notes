{
 "cells": [
  {
   "cell_type": "markdown",
   "metadata": {},
   "source": [
    "# Python Notes\n",
    "出自《流畅的Python》，《Python编程之美》"
   ]
  },
  {
   "cell_type": "markdown",
   "metadata": {},
   "source": [
    "# 生成器函数"
   ]
  },
  {
   "cell_type": "markdown",
   "metadata": {},
   "source": [
    "## 等比数列"
   ]
  },
  {
   "cell_type": "code",
   "execution_count": 2,
   "metadata": {},
   "outputs": [
    {
     "name": "stdout",
     "output_type": "stream",
     "text": [
      "1\n",
      "1.5\n"
     ]
    }
   ],
   "source": [
    "import itertools\n",
    "gen = itertools.count(1, .5) # 生成首项为1，公差为0.5的等差数列\n",
    "print(next(gen))\n",
    "print(next(gen))"
   ]
  },
  {
   "cell_type": "markdown",
   "metadata": {},
   "source": [
    "## 带条件的等比数列"
   ]
  },
  {
   "cell_type": "code",
   "execution_count": 4,
   "metadata": {},
   "outputs": [
    {
     "name": "stdout",
     "output_type": "stream",
     "text": [
      "1\n",
      "1.5\n"
     ]
    },
    {
     "ename": "StopIteration",
     "evalue": "",
     "output_type": "error",
     "traceback": [
      "\u001b[0;31m---------------------------------------------------------------------------\u001b[0m",
      "\u001b[0;31mStopIteration\u001b[0m                             Traceback (most recent call last)",
      "\u001b[0;32m<ipython-input-4-a9abf27c5ef4>\u001b[0m in \u001b[0;36m<module>\u001b[0;34m\u001b[0m\n\u001b[1;32m      2\u001b[0m \u001b[0mprint\u001b[0m\u001b[0;34m(\u001b[0m\u001b[0mnext\u001b[0m\u001b[0;34m(\u001b[0m\u001b[0mgen\u001b[0m\u001b[0;34m)\u001b[0m\u001b[0;34m)\u001b[0m\u001b[0;34m\u001b[0m\u001b[0m\n\u001b[1;32m      3\u001b[0m \u001b[0mprint\u001b[0m\u001b[0;34m(\u001b[0m\u001b[0mnext\u001b[0m\u001b[0;34m(\u001b[0m\u001b[0mgen\u001b[0m\u001b[0;34m)\u001b[0m\u001b[0;34m)\u001b[0m\u001b[0;34m\u001b[0m\u001b[0m\n\u001b[0;32m----> 4\u001b[0;31m \u001b[0mprint\u001b[0m\u001b[0;34m(\u001b[0m\u001b[0mnext\u001b[0m\u001b[0;34m(\u001b[0m\u001b[0mgen\u001b[0m\u001b[0;34m)\u001b[0m\u001b[0;34m)\u001b[0m\u001b[0;34m\u001b[0m\u001b[0m\n\u001b[0m",
      "\u001b[0;31mStopIteration\u001b[0m: "
     ]
    }
   ],
   "source": [
    "gen = itertools.takewhile(lambda n: n < 2, itertools.count(1, .5)) # 生成前一行数列中小于3部分的数列\n",
    "print(next(gen))\n",
    "print(next(gen))\n",
    "print(next(gen))"
   ]
  },
  {
   "cell_type": "markdown",
   "metadata": {},
   "source": [
    "## 用于过滤的生成器函数"
   ]
  },
  {
   "cell_type": "code",
   "execution_count": 1,
   "metadata": {},
   "outputs": [],
   "source": [
    "def vowel(c):\n",
    "    return c.lower() in 'aeiou'"
   ]
  },
  {
   "cell_type": "code",
   "execution_count": 10,
   "metadata": {},
   "outputs": [
    {
     "name": "stdout",
     "output_type": "stream",
     "text": [
      "itertools.filter ['A', 'a', 'a']\n",
      "itertools.filterfalse ['r', 'd', 'v', 'r', 'k'] 与filter相反\n",
      "itertools.dropwhile ['r', 'd', 'v', 'a', 'r', 'k'] 计算True后结束，不再进一步检查\n",
      "itertools.takewhile ['A', 'a'] 计算到Fasle后结束，不再进一步检查\n",
      "itertools.compress ['A', 'r', 'd', 'a'] 并行计算两个迭代对象，后为True输出\n",
      "itertools.islice ['A', 'a', 'r', 'd'] 切片，惰性，返回迭代器\n",
      "itertools.islice ['v', 'a', 'r']\n",
      "itertools.islice ['a', 'd', 'a']\n"
     ]
    }
   ],
   "source": [
    "import itertools\n",
    "\n",
    "print(\"itertools.filter\",list(filter(vowel, \"Aardvark\")))\n",
    "print(\"itertools.filterfalse\",list(itertools.filterfalse(vowel, 'Aardvark')),\"与filter相反\")\n",
    "print(\"itertools.dropwhile\",list(itertools.dropwhile(vowel, 'Aardvark')),\"计算True后结束，不再进一步检查\")\n",
    "print(\"itertools.takewhile\",list(itertools.takewhile(vowel, 'Aardvark')),\"计算到Fasle后结束，不再进一步检查\")\n",
    "print(\"itertools.compress\",list(itertools.compress('Aardvark',(1,0,1,1,0,1))),\"并行计算两个迭代对象，后为True输出\")\n",
    "print(\"itertools.islice\",list(itertools.islice('Aardvark',4)),\"切片，惰性，返回迭代器\")\n",
    "print(\"itertools.islice\",list(itertools.islice('Aardvark',4,7)))\n",
    "print(\"itertools.islice\",list(itertools.islice('Aardvark',1,7,2)))"
   ]
  },
  {
   "cell_type": "markdown",
   "metadata": {},
   "source": [
    "## 用于映射的生成器函数"
   ]
  },
  {
   "cell_type": "code",
   "execution_count": 11,
   "metadata": {},
   "outputs": [
    {
     "name": "stdout",
     "output_type": "stream",
     "text": [
      "[5, 9, 11, 19, 26, 32, 35, 35, 44, 45]\n",
      "[5, 4, 2, 2, 2, 2, 2, 0, 0, 0]\n",
      "[5, 5, 5, 8, 8, 8, 8, 8, 9, 9]\n",
      "[5, 20, 40, 320, 2240, 13440, 40320, 0, 0, 0]\n",
      "[1, 2, 6, 24, 120, 720, 5040, 40320, 362880, 3628800]\n"
     ]
    }
   ],
   "source": [
    "sample = [5,4,2,8,7,6,3,0,9,1]\n",
    "import itertools\n",
    "print(list(itertools.accumulate(sample)))\n",
    "print(list(itertools.accumulate(sample,min)))\n",
    "print(list(itertools.accumulate(sample,max)))\n",
    "import operator\n",
    "print(list(itertools.accumulate(sample,operator.mul)))\n",
    "print(list(itertools.accumulate(range(1, 11),operator.mul)))"
   ]
  },
  {
   "cell_type": "code",
   "execution_count": 20,
   "metadata": {},
   "outputs": [
    {
     "name": "stdout",
     "output_type": "stream",
     "text": [
      "[(2, 'a'), (3, 'l'), (4, 'b'), (5, 'a'), (6, 't'), (7, 'r'), (8, 'o'), (9, 'z')]\n",
      "[0, 1, 4, 9, 16, 25, 36, 49, 64, 81, 100]\n",
      "[(0, 2), (1, 4), (2, 8)]\n",
      "['a', 'll', 'bbb', 'aaaa', 'ttttt', 'rrrrrr', 'ooooooo', 'zzzzzzzz']\n",
      "[5.0, 4.5, 3.6666666666666665, 4.75, 5.2, 5.333333333333333, 5.0, 4.375, 4.888888888888889, 4.5]\n"
     ]
    }
   ],
   "source": [
    "print(list(enumerate('albatroz',2)))\n",
    "import operator\n",
    "print(list(map(operator.mul, range(11),range(11))))\n",
    "print(list(map(lambda a, b: (a, b),range(11),[2, 4, 8])))\n",
    "import itertools\n",
    "print(list(itertools.starmap(operator.mul ,enumerate('albatroz',1))))\n",
    "sample = [5,4,2,8,7,6,3,0,9,1]\n",
    "print(list(itertools.starmap(lambda a,b:b/a,enumerate(itertools.accumulate(sample),1))))"
   ]
  },
  {
   "cell_type": "markdown",
   "metadata": {},
   "source": [
    "## 用于合并的生成器函数"
   ]
  },
  {
   "cell_type": "code",
   "execution_count": 21,
   "metadata": {},
   "outputs": [
    {
     "name": "stdout",
     "output_type": "stream",
     "text": [
      "['A', 'B', 'C', 0, 1]\n",
      "[(0, 'A'), (1, 'B'), (2, 'C')]\n",
      "[0, 'A', 1, 'B', 2, 'C']\n",
      "[('A', 0), ('B', 1), ('C', 2)]\n",
      "[('A', 0, 10), ('B', 1, 20), ('C', 2, 30)]\n",
      "[('A', 0), ('B', 1), ('C', 2), (None, 3), (None, 4)]\n",
      "[('A', 0), ('B', 1), ('C', 2), ('?', 3), ('?', 4)]\n"
     ]
    }
   ],
   "source": [
    "print(list(itertools.chain('ABC', range(2))))\n",
    "print(list(itertools.chain(enumerate('ABC'))))\n",
    "print(list(itertools.chain.from_iterable(enumerate('ABC'))))\n",
    "print(list(zip('ABC',range(5))))\n",
    "print(list(zip('ABC',range(5),[10, 20, 30, 40])))\n",
    "print(list(itertools.zip_longest('ABC', range(5))))\n",
    "print(list(itertools.zip_longest('ABC', range(5),fillvalue='?')))"
   ]
  },
  {
   "cell_type": "code",
   "execution_count": null,
   "metadata": {},
   "outputs": [],
   "source": []
  },
  {
   "cell_type": "code",
   "execution_count": null,
   "metadata": {},
   "outputs": [],
   "source": []
  },
  {
   "cell_type": "code",
   "execution_count": null,
   "metadata": {},
   "outputs": [],
   "source": []
  },
  {
   "cell_type": "markdown",
   "metadata": {},
   "source": [
    "# 其他"
   ]
  },
  {
   "cell_type": "markdown",
   "metadata": {},
   "source": [
    "## reprlib，repr的替代"
   ]
  },
  {
   "cell_type": "code",
   "execution_count": 6,
   "metadata": {},
   "outputs": [
    {
     "name": "stdout",
     "output_type": "stream",
     "text": [
      "'asdasdasdajsdiasjdiasjdiasjdaaaaaaaaaaaaaaaaaaaaaaaaaaaaaaaaaaaaisdjad'\n",
      "'asdasdasdajs...aiasjdaisdjad'\n"
     ]
    }
   ],
   "source": [
    "import reprlib\n",
    "print(repr(\"asdasdasdajsdiasjdiasjdiasjdaaaaaaaaaaaaaaaaaaaaaaaaaaaaaaaaaaaaisdjad\"))\n",
    "print(reprlib.repr(\"asdasdasdajsdiasjdiasjdaaaaaaaaaaaaaaaaaaaaaaaaaaaaaaaaaiasjdaisdjad\"))"
   ]
  },
  {
   "cell_type": "markdown",
   "metadata": {},
   "source": [
    "## rpartition,rsplit,从另一个方向找分隔符"
   ]
  },
  {
   "cell_type": "code",
   "execution_count": 9,
   "metadata": {},
   "outputs": [
    {
     "name": "stdout",
     "output_type": "stream",
     "text": [
      "('my.doc', '.', 'txt')\n",
      "['my.doc', 'txt']\n"
     ]
    }
   ],
   "source": [
    "s = \"my.doc.txt\"\n",
    "print(s.rpartition('.')) # 保留分隔符\n",
    "print(s.rsplit('.',1)) # 限制分割次数"
   ]
  },
  {
   "cell_type": "code",
   "execution_count": null,
   "metadata": {},
   "outputs": [],
   "source": []
  },
  {
   "cell_type": "markdown",
   "metadata": {},
   "source": [
    "# 代码风格"
   ]
  },
  {
   "cell_type": "markdown",
   "metadata": {},
   "source": [
    "### 尽量在一处Return"
   ]
  },
  {
   "cell_type": "markdown",
   "metadata": {},
   "source": [
    "### 代码续行\n",
    "使用括号代替 \\进行续行\n",
    "```\n",
    "from some.deep.module.in.a.module import(\n",
    "    a,\n",
    "    b,\n",
    "    c\n",
    ")\n",
    "```"
   ]
  },
  {
   "cell_type": "markdown",
   "metadata": {},
   "source": [
    "### 花式解包"
   ]
  },
  {
   "cell_type": "code",
   "execution_count": 1,
   "metadata": {},
   "outputs": [],
   "source": [
    "a = 1\n",
    "b = 2\n",
    "a, b = b, a\n",
    "a, (b, c) = 1, (2, 3)\n",
    "a, *rest = [1, 2, 3]\n",
    "a, *middle, c = [1, 2, 3, 4]"
   ]
  },
  {
   "cell_type": "markdown",
   "metadata": {},
   "source": [
    "### 使用双下划线代替单下划线请求不需要的值，避免覆盖默认单下划线记录的上次计算结果"
   ]
  },
  {
   "cell_type": "markdown",
   "metadata": {},
   "source": [
    "### 使用 in set 代替 in list，前者使用哈希匹配，后者使用逐项匹配"
   ]
  },
  {
   "cell_type": "code",
   "execution_count": null,
   "metadata": {},
   "outputs": [],
   "source": []
  }
 ],
 "metadata": {
  "kernelspec": {
   "display_name": "Python 3",
   "language": "python",
   "name": "python3"
  },
  "language_info": {
   "codemirror_mode": {
    "name": "ipython",
    "version": 3
   },
   "file_extension": ".py",
   "mimetype": "text/x-python",
   "name": "python",
   "nbconvert_exporter": "python",
   "pygments_lexer": "ipython3",
   "version": "3.7.0"
  }
 },
 "nbformat": 4,
 "nbformat_minor": 2
}
